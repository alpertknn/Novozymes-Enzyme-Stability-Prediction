{
 "cells": [
  {
   "cell_type": "markdown",
   "id": "489747b3",
   "metadata": {},
   "source": [
    "# <font color =\"orange\">Used Libraries</font> "
   ]
  },
  {
   "cell_type": "code",
   "execution_count": 281,
   "id": "6975fbcc",
   "metadata": {},
   "outputs": [],
   "source": [
    "import pandas as pd\n",
    "import numpy as np\n",
    "import matplotlib.pyplot as plt\n",
    "import seaborn as sns\n",
    "\n",
    "from scipy.stats import spearmanr\n",
    "from xgboost import XGBRegressor\n",
    "from sklearn.model_selection import train_test_split\n",
    "from sklearn.metrics import mean_squared_error,mean_absolute_percentage_error\n",
    "from sklearn.model_selection import GridSearchCV"
   ]
  },
  {
   "cell_type": "markdown",
   "id": "7daa0635",
   "metadata": {},
   "source": [
    "### <font color =\"Purple\">Reading Files</font> "
   ]
  },
  {
   "cell_type": "code",
   "execution_count": 282,
   "id": "b6d00329",
   "metadata": {},
   "outputs": [],
   "source": [
    "df_train = pd.read_csv(\"./csv_files/train.csv\")\n",
    "df_updated = pd.read_csv(\"./csv_files/train_updates.csv\")\n",
    "df_test =  pd.read_csv(\"./csv_files/test.csv\")"
   ]
  },
  {
   "cell_type": "code",
   "execution_count": 283,
   "id": "0303c3af",
   "metadata": {
    "scrolled": true
   },
   "outputs": [
    {
     "name": "stdout",
     "output_type": "stream",
     "text": [
      "<class 'pandas.core.frame.DataFrame'>\n",
      "RangeIndex: 31390 entries, 0 to 31389\n",
      "Data columns (total 5 columns):\n",
      " #   Column            Non-Null Count  Dtype  \n",
      "---  ------            --------------  -----  \n",
      " 0   seq_id            31390 non-null  int64  \n",
      " 1   protein_sequence  31390 non-null  object \n",
      " 2   pH                31104 non-null  float64\n",
      " 3   data_source       28043 non-null  object \n",
      " 4   tm                31390 non-null  float64\n",
      "dtypes: float64(2), int64(1), object(2)\n",
      "memory usage: 1.2+ MB\n"
     ]
    }
   ],
   "source": [
    "df_train.info()"
   ]
  },
  {
   "cell_type": "code",
   "execution_count": 284,
   "id": "d62e4b81",
   "metadata": {
    "scrolled": true
   },
   "outputs": [
    {
     "name": "stdout",
     "output_type": "stream",
     "text": [
      "<class 'pandas.core.frame.DataFrame'>\n",
      "RangeIndex: 2434 entries, 0 to 2433\n",
      "Data columns (total 5 columns):\n",
      " #   Column            Non-Null Count  Dtype  \n",
      "---  ------            --------------  -----  \n",
      " 0   seq_id            2434 non-null   int64  \n",
      " 1   protein_sequence  25 non-null     object \n",
      " 2   pH                25 non-null     float64\n",
      " 3   data_source       0 non-null      float64\n",
      " 4   tm                25 non-null     float64\n",
      "dtypes: float64(3), int64(1), object(1)\n",
      "memory usage: 95.2+ KB\n"
     ]
    }
   ],
   "source": [
    "df_updated.info()"
   ]
  },
  {
   "cell_type": "code",
   "execution_count": 285,
   "id": "16fc0b69",
   "metadata": {},
   "outputs": [
    {
     "name": "stdout",
     "output_type": "stream",
     "text": [
      "<class 'pandas.core.frame.DataFrame'>\n",
      "RangeIndex: 2413 entries, 0 to 2412\n",
      "Data columns (total 4 columns):\n",
      " #   Column            Non-Null Count  Dtype \n",
      "---  ------            --------------  ----- \n",
      " 0   seq_id            2413 non-null   int64 \n",
      " 1   protein_sequence  2413 non-null   object\n",
      " 2   pH                2413 non-null   int64 \n",
      " 3   data_source       2413 non-null   object\n",
      "dtypes: int64(2), object(2)\n",
      "memory usage: 75.5+ KB\n"
     ]
    }
   ],
   "source": [
    "df_test.info()"
   ]
  },
  {
   "cell_type": "markdown",
   "id": "d14d3896",
   "metadata": {},
   "source": [
    "### <font color =\"Purple\">Data Preparation and Inspection Step</font> "
   ]
  },
  {
   "cell_type": "code",
   "execution_count": 287,
   "id": "1aa3f312",
   "metadata": {},
   "outputs": [],
   "source": [
    "for seq_id in df_updated.seq_id:\n",
    "    df_train = df_train.drop(index = seq_id)"
   ]
  },
  {
   "cell_type": "code",
   "execution_count": 288,
   "id": "8498b5bd",
   "metadata": {},
   "outputs": [],
   "source": [
    "# Dropping seq_id and data source columns in train dataset "
   ]
  },
  {
   "cell_type": "code",
   "execution_count": 289,
   "id": "7b62089d",
   "metadata": {},
   "outputs": [],
   "source": [
    "df_train.drop(columns=[\"seq_id\",\"data_source\"],inplace=True)"
   ]
  },
  {
   "cell_type": "code",
   "execution_count": 290,
   "id": "b0eea28f",
   "metadata": {
    "scrolled": false
   },
   "outputs": [
    {
     "data": {
      "text/html": [
       "<style type=\"text/css\">\n",
       "#T_dc598_row0_col0, #T_dc598_row0_col1, #T_dc598_row0_col2, #T_dc598_row0_col3, #T_dc598_row0_col4, #T_dc598_row0_col5, #T_dc598_row0_col6, #T_dc598_row0_col7 {\n",
       "  background-color: #ffffcc;\n",
       "  color: #000000;\n",
       "}\n",
       "#T_dc598_row1_col0, #T_dc598_row1_col1, #T_dc598_row1_col2, #T_dc598_row1_col3, #T_dc598_row1_col4, #T_dc598_row1_col5, #T_dc598_row1_col6, #T_dc598_row1_col7 {\n",
       "  background-color: #800026;\n",
       "  color: #f1f1f1;\n",
       "}\n",
       "</style>\n",
       "<table id=\"T_dc598\">\n",
       "  <thead>\n",
       "    <tr>\n",
       "      <th class=\"blank level0\" >&nbsp;</th>\n",
       "      <th id=\"T_dc598_level0_col0\" class=\"col_heading level0 col0\" >count</th>\n",
       "      <th id=\"T_dc598_level0_col1\" class=\"col_heading level0 col1\" >mean</th>\n",
       "      <th id=\"T_dc598_level0_col2\" class=\"col_heading level0 col2\" >std</th>\n",
       "      <th id=\"T_dc598_level0_col3\" class=\"col_heading level0 col3\" >min</th>\n",
       "      <th id=\"T_dc598_level0_col4\" class=\"col_heading level0 col4\" >25%</th>\n",
       "      <th id=\"T_dc598_level0_col5\" class=\"col_heading level0 col5\" >50%</th>\n",
       "      <th id=\"T_dc598_level0_col6\" class=\"col_heading level0 col6\" >75%</th>\n",
       "      <th id=\"T_dc598_level0_col7\" class=\"col_heading level0 col7\" >max</th>\n",
       "    </tr>\n",
       "  </thead>\n",
       "  <tbody>\n",
       "    <tr>\n",
       "      <th id=\"T_dc598_level0_row0\" class=\"row_heading level0 row0\" >pH</th>\n",
       "      <td id=\"T_dc598_row0_col0\" class=\"data row0 col0\" >28670.000000</td>\n",
       "      <td id=\"T_dc598_row0_col1\" class=\"data row0 col1\" >6.872918</td>\n",
       "      <td id=\"T_dc598_row0_col2\" class=\"data row0 col2\" >0.792550</td>\n",
       "      <td id=\"T_dc598_row0_col3\" class=\"data row0 col3\" >1.990000</td>\n",
       "      <td id=\"T_dc598_row0_col4\" class=\"data row0 col4\" >7.000000</td>\n",
       "      <td id=\"T_dc598_row0_col5\" class=\"data row0 col5\" >7.000000</td>\n",
       "      <td id=\"T_dc598_row0_col6\" class=\"data row0 col6\" >7.000000</td>\n",
       "      <td id=\"T_dc598_row0_col7\" class=\"data row0 col7\" >11.000000</td>\n",
       "    </tr>\n",
       "    <tr>\n",
       "      <th id=\"T_dc598_level0_row1\" class=\"row_heading level0 row1\" >tm</th>\n",
       "      <td id=\"T_dc598_row1_col0\" class=\"data row1 col0\" >28956.000000</td>\n",
       "      <td id=\"T_dc598_row1_col1\" class=\"data row1 col1\" >51.360399</td>\n",
       "      <td id=\"T_dc598_row1_col2\" class=\"data row1 col2\" >12.060858</td>\n",
       "      <td id=\"T_dc598_row1_col3\" class=\"data row1 col3\" >25.100000</td>\n",
       "      <td id=\"T_dc598_row1_col4\" class=\"data row1 col4\" >43.600000</td>\n",
       "      <td id=\"T_dc598_row1_col5\" class=\"data row1 col5\" >48.800000</td>\n",
       "      <td id=\"T_dc598_row1_col6\" class=\"data row1 col6\" >54.600000</td>\n",
       "      <td id=\"T_dc598_row1_col7\" class=\"data row1 col7\" >130.000000</td>\n",
       "    </tr>\n",
       "  </tbody>\n",
       "</table>\n"
      ],
      "text/plain": [
       "<pandas.io.formats.style.Styler at 0x16d35a62760>"
      ]
     },
     "execution_count": 290,
     "metadata": {},
     "output_type": "execute_result"
    }
   ],
   "source": [
    "df_train.describe().T.style.background_gradient(\"YlOrRd\")"
   ]
  },
  {
   "cell_type": "code",
   "execution_count": 291,
   "id": "6fd57dbc",
   "metadata": {},
   "outputs": [],
   "source": [
    "# Checking any possible outliers inside the pH column "
   ]
  },
  {
   "cell_type": "code",
   "execution_count": 292,
   "id": "4cc92e6e",
   "metadata": {},
   "outputs": [
    {
     "data": {
      "text/plain": [
       "count    28670.000000\n",
       "mean         6.872918\n",
       "std          0.792550\n",
       "min          1.990000\n",
       "25%          7.000000\n",
       "50%          7.000000\n",
       "75%          7.000000\n",
       "max         11.000000\n",
       "Name: pH, dtype: float64"
      ]
     },
     "execution_count": 292,
     "metadata": {},
     "output_type": "execute_result"
    }
   ],
   "source": [
    "df_train[\"pH\"].describe()"
   ]
  },
  {
   "cell_type": "code",
   "execution_count": 293,
   "id": "25add00a",
   "metadata": {},
   "outputs": [
    {
     "data": {
      "text/plain": [
       "50.0    200\n",
       "45.0    178\n",
       "49.7    176\n",
       "49.0    175\n",
       "48.4    174\n",
       "       ... \n",
       "92.2      1\n",
       "26.2      1\n",
       "98.1      1\n",
       "26.1      1\n",
       "93.3      1\n",
       "Name: tm, Length: 725, dtype: int64"
      ]
     },
     "execution_count": 293,
     "metadata": {},
     "output_type": "execute_result"
    }
   ],
   "source": [
    "df_train[\"tm\"].value_counts()"
   ]
  },
  {
   "cell_type": "code",
   "execution_count": 314,
   "id": "2e5014f2",
   "metadata": {
    "scrolled": false
   },
   "outputs": [
    {
     "data": {
      "image/png": "[encoded data removed]",
      "text/plain": [
       "<Figure size 432x288 with 1 Axes>"
      ]
     },
     "metadata": {
      "needs_background": "light"
     },
     "output_type": "display_data"
    }
   ],
   "source": [
    "sns.histplot(df_train[\"tm\"]);"
   ]
  },
  {
   "cell_type": "code",
   "execution_count": 295,
   "id": "429215e8",
   "metadata": {},
   "outputs": [
    {
     "data": {
      "image/png": "[encoded data removed]",
      "text/plain": [
       "<Figure size 432x288 with 1 Axes>"
      ]
     },
     "metadata": {
      "needs_background": "light"
     },
     "output_type": "display_data"
    }
   ],
   "source": [
    "sns.histplot(df_train.pH)\n",
    "plt.ylim(0,1000)\n",
    "plt.show();"
   ]
  },
  {
   "cell_type": "markdown",
   "id": "a255ead1",
   "metadata": {},
   "source": [
    "### <font color =\"Purple\">Data Preparation and Inspection Step</font> \n",
    "->> Somehow we need to use protein_sequence column because it plays an important role on determining enzyme stability"
   ]
  },
  {
   "cell_type": "code",
   "execution_count": 297,
   "id": "66d1dfc7",
   "metadata": {
    "scrolled": true
   },
   "outputs": [],
   "source": [
    "arr = []\n",
    "for i in range (len(df_train)):\n",
    "    arr.append(len(df_train[\"protein_sequence\"].iloc[i]))\n",
    "df_train[\"length\"] = arr"
   ]
  },
  {
   "cell_type": "code",
   "execution_count": 298,
   "id": "9a34d443",
   "metadata": {},
   "outputs": [],
   "source": [
    "new_arr = []\n",
    "for i in range (len(df_test)):\n",
    "    new_arr.append(len(df_test[\"protein_sequence\"].iloc[i]))\n",
    "df_test[\"length\"] = new_arr"
   ]
  },
  {
   "cell_type": "code",
   "execution_count": 299,
   "id": "e36cd83e",
   "metadata": {
    "scrolled": true
   },
   "outputs": [
    {
     "name": "stdout",
     "output_type": "stream",
     "text": [
      "<class 'pandas.core.frame.DataFrame'>\n",
      "Int64Index: 28956 entries, 0 to 31389\n",
      "Data columns (total 4 columns):\n",
      " #   Column            Non-Null Count  Dtype  \n",
      "---  ------            --------------  -----  \n",
      " 0   protein_sequence  28956 non-null  object \n",
      " 1   pH                28670 non-null  float64\n",
      " 2   tm                28956 non-null  float64\n",
      " 3   length            28956 non-null  int64  \n",
      "dtypes: float64(2), int64(1), object(1)\n",
      "memory usage: 1.1+ MB\n"
     ]
    }
   ],
   "source": [
    "df_train.info()"
   ]
  },
  {
   "cell_type": "code",
   "execution_count": 300,
   "id": "653517c8",
   "metadata": {},
   "outputs": [
    {
     "data": {
      "text/html": [
       "<div>\n",
       "<style scoped>\n",
       "    .dataframe tbody tr th:only-of-type {\n",
       "        vertical-align: middle;\n",
       "    }\n",
       "\n",
       "    .dataframe tbody tr th {\n",
       "        vertical-align: top;\n",
       "    }\n",
       "\n",
       "    .dataframe thead th {\n",
       "        text-align: right;\n",
       "    }\n",
       "</style>\n",
       "<table border=\"1\" class=\"dataframe\">\n",
       "  <thead>\n",
       "    <tr style=\"text-align: right;\">\n",
       "      <th></th>\n",
       "      <th>protein_sequence</th>\n",
       "      <th>pH</th>\n",
       "      <th>tm</th>\n",
       "      <th>length</th>\n",
       "    </tr>\n",
       "  </thead>\n",
       "  <tbody>\n",
       "    <tr>\n",
       "      <th>0</th>\n",
       "      <td>AAAAKAAALALLGEAPEVVDIWLPAGWRQPFRVFRLERKGDGVLVG...</td>\n",
       "      <td>7.0</td>\n",
       "      <td>75.7</td>\n",
       "      <td>341</td>\n",
       "    </tr>\n",
       "    <tr>\n",
       "      <th>1</th>\n",
       "      <td>AAADGEPLHNEEERAGAGQVGRSLPQESEEQRTGSRPRRRRDLGSR...</td>\n",
       "      <td>7.0</td>\n",
       "      <td>50.5</td>\n",
       "      <td>286</td>\n",
       "    </tr>\n",
       "    <tr>\n",
       "      <th>2</th>\n",
       "      <td>AAAFSTPRATSYRILSSAGSGSTRADAPQVRRLHTTRDLLAKDYYA...</td>\n",
       "      <td>7.0</td>\n",
       "      <td>40.5</td>\n",
       "      <td>497</td>\n",
       "    </tr>\n",
       "    <tr>\n",
       "      <th>3</th>\n",
       "      <td>AAASGLRTAIPAQPLRHLLQPAPRPCLRPFGLLSVRAGSARRSGLL...</td>\n",
       "      <td>7.0</td>\n",
       "      <td>47.2</td>\n",
       "      <td>265</td>\n",
       "    </tr>\n",
       "    <tr>\n",
       "      <th>4</th>\n",
       "      <td>AAATKSGPRRQSQGASVRTFTPFYFLVEPVDTLSVRGSSVILNCSA...</td>\n",
       "      <td>7.0</td>\n",
       "      <td>49.5</td>\n",
       "      <td>1451</td>\n",
       "    </tr>\n",
       "  </tbody>\n",
       "</table>\n",
       "</div>"
      ],
      "text/plain": [
       "                                    protein_sequence   pH    tm  length\n",
       "0  AAAAKAAALALLGEAPEVVDIWLPAGWRQPFRVFRLERKGDGVLVG...  7.0  75.7     341\n",
       "1  AAADGEPLHNEEERAGAGQVGRSLPQESEEQRTGSRPRRRRDLGSR...  7.0  50.5     286\n",
       "2  AAAFSTPRATSYRILSSAGSGSTRADAPQVRRLHTTRDLLAKDYYA...  7.0  40.5     497\n",
       "3  AAASGLRTAIPAQPLRHLLQPAPRPCLRPFGLLSVRAGSARRSGLL...  7.0  47.2     265\n",
       "4  AAATKSGPRRQSQGASVRTFTPFYFLVEPVDTLSVRGSSVILNCSA...  7.0  49.5    1451"
      ]
     },
     "execution_count": 300,
     "metadata": {},
     "output_type": "execute_result"
    }
   ],
   "source": [
    "df_train.head()"
   ]
  },
  {
   "cell_type": "markdown",
   "id": "0a102856",
   "metadata": {},
   "source": [
    "### <font color =\"red\">->> Proteins are built from a set of only twenty amino acids, each of which has a unique side chain. The side chains of amino acids have different chemistries. </font> "
   ]
  },
  {
   "cell_type": "code",
   "execution_count": 302,
   "id": "cfdc2837",
   "metadata": {},
   "outputs": [],
   "source": [
    "amino_acids= ['A', 'C', 'D', 'E', 'F', 'G', 'H', 'I', 'K', 'L', 'M', 'N', 'P', 'Q', 'R', 'S', 'T', 'V', 'W', 'Y']\n",
    "for letter in amino_acids:\n",
    "    df_train[letter] = df_train.protein_sequence.str.count(letter)\n",
    "    df_test[letter] = df_test.protein_sequence.str.count(letter)"
   ]
  },
  {
   "cell_type": "code",
   "execution_count": 303,
   "id": "66e63111",
   "metadata": {
    "scrolled": true
   },
   "outputs": [
    {
     "data": {
      "text/html": [
       "<div>\n",
       "<style scoped>\n",
       "    .dataframe tbody tr th:only-of-type {\n",
       "        vertical-align: middle;\n",
       "    }\n",
       "\n",
       "    .dataframe tbody tr th {\n",
       "        vertical-align: top;\n",
       "    }\n",
       "\n",
       "    .dataframe thead th {\n",
       "        text-align: right;\n",
       "    }\n",
       "</style>\n",
       "<table border=\"1\" class=\"dataframe\">\n",
       "  <thead>\n",
       "    <tr style=\"text-align: right;\">\n",
       "      <th></th>\n",
       "      <th>protein_sequence</th>\n",
       "      <th>pH</th>\n",
       "      <th>tm</th>\n",
       "      <th>length</th>\n",
       "      <th>A</th>\n",
       "      <th>C</th>\n",
       "      <th>D</th>\n",
       "      <th>E</th>\n",
       "      <th>F</th>\n",
       "      <th>G</th>\n",
       "      <th>...</th>\n",
       "      <th>M</th>\n",
       "      <th>N</th>\n",
       "      <th>P</th>\n",
       "      <th>Q</th>\n",
       "      <th>R</th>\n",
       "      <th>S</th>\n",
       "      <th>T</th>\n",
       "      <th>V</th>\n",
       "      <th>W</th>\n",
       "      <th>Y</th>\n",
       "    </tr>\n",
       "  </thead>\n",
       "  <tbody>\n",
       "    <tr>\n",
       "      <th>0</th>\n",
       "      <td>AAAAKAAALALLGEAPEVVDIWLPAGWRQPFRVFRLERKGDGVLVG...</td>\n",
       "      <td>7.0</td>\n",
       "      <td>75.7</td>\n",
       "      <td>341</td>\n",
       "      <td>45</td>\n",
       "      <td>1</td>\n",
       "      <td>13</td>\n",
       "      <td>30</td>\n",
       "      <td>13</td>\n",
       "      <td>38</td>\n",
       "      <td>...</td>\n",
       "      <td>8</td>\n",
       "      <td>5</td>\n",
       "      <td>18</td>\n",
       "      <td>6</td>\n",
       "      <td>25</td>\n",
       "      <td>11</td>\n",
       "      <td>14</td>\n",
       "      <td>37</td>\n",
       "      <td>4</td>\n",
       "      <td>3</td>\n",
       "    </tr>\n",
       "    <tr>\n",
       "      <th>1</th>\n",
       "      <td>AAADGEPLHNEEERAGAGQVGRSLPQESEEQRTGSRPRRRRDLGSR...</td>\n",
       "      <td>7.0</td>\n",
       "      <td>50.5</td>\n",
       "      <td>286</td>\n",
       "      <td>28</td>\n",
       "      <td>0</td>\n",
       "      <td>10</td>\n",
       "      <td>52</td>\n",
       "      <td>6</td>\n",
       "      <td>18</td>\n",
       "      <td>...</td>\n",
       "      <td>2</td>\n",
       "      <td>6</td>\n",
       "      <td>8</td>\n",
       "      <td>22</td>\n",
       "      <td>30</td>\n",
       "      <td>14</td>\n",
       "      <td>12</td>\n",
       "      <td>13</td>\n",
       "      <td>3</td>\n",
       "      <td>3</td>\n",
       "    </tr>\n",
       "    <tr>\n",
       "      <th>2</th>\n",
       "      <td>AAAFSTPRATSYRILSSAGSGSTRADAPQVRRLHTTRDLLAKDYYA...</td>\n",
       "      <td>7.0</td>\n",
       "      <td>40.5</td>\n",
       "      <td>497</td>\n",
       "      <td>50</td>\n",
       "      <td>9</td>\n",
       "      <td>27</td>\n",
       "      <td>32</td>\n",
       "      <td>21</td>\n",
       "      <td>65</td>\n",
       "      <td>...</td>\n",
       "      <td>6</td>\n",
       "      <td>15</td>\n",
       "      <td>20</td>\n",
       "      <td>25</td>\n",
       "      <td>31</td>\n",
       "      <td>33</td>\n",
       "      <td>30</td>\n",
       "      <td>30</td>\n",
       "      <td>3</td>\n",
       "      <td>16</td>\n",
       "    </tr>\n",
       "    <tr>\n",
       "      <th>3</th>\n",
       "      <td>AAASGLRTAIPAQPLRHLLQPAPRPCLRPFGLLSVRAGSARRSGLL...</td>\n",
       "      <td>7.0</td>\n",
       "      <td>47.2</td>\n",
       "      <td>265</td>\n",
       "      <td>20</td>\n",
       "      <td>5</td>\n",
       "      <td>19</td>\n",
       "      <td>29</td>\n",
       "      <td>12</td>\n",
       "      <td>16</td>\n",
       "      <td>...</td>\n",
       "      <td>2</td>\n",
       "      <td>9</td>\n",
       "      <td>16</td>\n",
       "      <td>9</td>\n",
       "      <td>10</td>\n",
       "      <td>16</td>\n",
       "      <td>19</td>\n",
       "      <td>14</td>\n",
       "      <td>3</td>\n",
       "      <td>4</td>\n",
       "    </tr>\n",
       "    <tr>\n",
       "      <th>4</th>\n",
       "      <td>AAATKSGPRRQSQGASVRTFTPFYFLVEPVDTLSVRGSSVILNCSA...</td>\n",
       "      <td>7.0</td>\n",
       "      <td>49.5</td>\n",
       "      <td>1451</td>\n",
       "      <td>86</td>\n",
       "      <td>14</td>\n",
       "      <td>78</td>\n",
       "      <td>78</td>\n",
       "      <td>32</td>\n",
       "      <td>84</td>\n",
       "      <td>...</td>\n",
       "      <td>31</td>\n",
       "      <td>65</td>\n",
       "      <td>128</td>\n",
       "      <td>54</td>\n",
       "      <td>63</td>\n",
       "      <td>148</td>\n",
       "      <td>120</td>\n",
       "      <td>124</td>\n",
       "      <td>16</td>\n",
       "      <td>47</td>\n",
       "    </tr>\n",
       "  </tbody>\n",
       "</table>\n",
       "<p>5 rows × 24 columns</p>\n",
       "</div>"
      ],
      "text/plain": [
       "                                    protein_sequence   pH    tm  length   A  \\\n",
       "0  AAAAKAAALALLGEAPEVVDIWLPAGWRQPFRVFRLERKGDGVLVG...  7.0  75.7     341  45   \n",
       "1  AAADGEPLHNEEERAGAGQVGRSLPQESEEQRTGSRPRRRRDLGSR...  7.0  50.5     286  28   \n",
       "2  AAAFSTPRATSYRILSSAGSGSTRADAPQVRRLHTTRDLLAKDYYA...  7.0  40.5     497  50   \n",
       "3  AAASGLRTAIPAQPLRHLLQPAPRPCLRPFGLLSVRAGSARRSGLL...  7.0  47.2     265  20   \n",
       "4  AAATKSGPRRQSQGASVRTFTPFYFLVEPVDTLSVRGSSVILNCSA...  7.0  49.5    1451  86   \n",
       "\n",
       "    C   D   E   F   G  ...   M   N    P   Q   R    S    T    V   W   Y  \n",
       "0   1  13  30  13  38  ...   8   5   18   6  25   11   14   37   4   3  \n",
       "1   0  10  52   6  18  ...   2   6    8  22  30   14   12   13   3   3  \n",
       "2   9  27  32  21  65  ...   6  15   20  25  31   33   30   30   3  16  \n",
       "3   5  19  29  12  16  ...   2   9   16   9  10   16   19   14   3   4  \n",
       "4  14  78  78  32  84  ...  31  65  128  54  63  148  120  124  16  47  \n",
       "\n",
       "[5 rows x 24 columns]"
      ]
     },
     "execution_count": 303,
     "metadata": {},
     "output_type": "execute_result"
    }
   ],
   "source": [
    "df_train.head()"
   ]
  },
  {
   "cell_type": "markdown",
   "id": "261cebcc",
   "metadata": {},
   "source": [
    "### <font color =\"red\">->> Here tm means that the protein variant is more stable, so instead of using all dataset, we can take some part from it like rows which's tm value is bigger than 51.36 (mean of tm).</font> "
   ]
  },
  {
   "cell_type": "code",
   "execution_count": 305,
   "id": "8f214be6",
   "metadata": {},
   "outputs": [],
   "source": [
    "df_train = df_train[df_train[\"tm\"]>51.36]"
   ]
  },
  {
   "cell_type": "code",
   "execution_count": 306,
   "id": "95cd7200",
   "metadata": {},
   "outputs": [
    {
     "data": {
      "text/plain": [
       "(10637, 24)"
      ]
     },
     "execution_count": 306,
     "metadata": {},
     "output_type": "execute_result"
    }
   ],
   "source": [
    "df_train.shape"
   ]
  },
  {
   "cell_type": "markdown",
   "id": "805e2e9a",
   "metadata": {},
   "source": [
    "### <font color =\"Purple\">Now we can deal with our model side</font>  "
   ]
  },
  {
   "cell_type": "code",
   "execution_count": 307,
   "id": "f8106c8c",
   "metadata": {},
   "outputs": [],
   "source": [
    "# fitting our model\n",
    "X = df_train.drop(columns=[\"protein_sequence\",\"tm\"])\n",
    "y = df_train[\"tm\"]"
   ]
  },
  {
   "cell_type": "code",
   "execution_count": 308,
   "id": "4b5c38c9",
   "metadata": {},
   "outputs": [],
   "source": [
    "X_train, X_test, y_train, y_test = train_test_split(X,y,test_size=0.2)"
   ]
  },
  {
   "cell_type": "markdown",
   "id": "e41e09e6",
   "metadata": {},
   "source": [
    "### <font color =\"red\">->> First we will use our model without model tuning, also we are asked to use spearman metric</font> "
   ]
  },
  {
   "cell_type": "code",
   "execution_count": 315,
   "id": "91d74b6d",
   "metadata": {},
   "outputs": [
    {
     "name": "stdout",
     "output_type": "stream",
     "text": [
      "Spearman Correlation:  0.7323745161407725\n"
     ]
    }
   ],
   "source": [
    "model = XGBRegressor().fit(X_train,y_train)\n",
    "prediction = model.predict(X_test)\n",
    "corr, p = spearmanr(y_test,prediction)\n",
    "print(\"Spearman Correlation: \",corr)"
   ]
  },
  {
   "cell_type": "markdown",
   "id": "e5945d2b",
   "metadata": {},
   "source": [
    "### <font color =\"red\">->> Now we can measure by using tuned parameters, by gridsearchcv we can find best parameters</font>  "
   ]
  },
  {
   "cell_type": "code",
   "execution_count": 310,
   "id": "565d51f1",
   "metadata": {},
   "outputs": [
    {
     "name": "stdout",
     "output_type": "stream",
     "text": [
      "Fitting 5 folds for each of 27 candidates, totalling 135 fits\n"
     ]
    }
   ],
   "source": [
    "model = XGBRegressor()\n",
    "params = {\"n_estimators\":[100,200,300],\"max_depth\":[3,5,7],\"learning_rate\":[0.1,0.05,0.001]}\n",
    "tuned_model = GridSearchCV(model,param_grid=params,cv=5,verbose=2,n_jobs=-1).fit(X_train,y_train)"
   ]
  },
  {
   "cell_type": "code",
   "execution_count": 311,
   "id": "74956021",
   "metadata": {},
   "outputs": [
    {
     "data": {
      "text/plain": [
       "{'learning_rate': 0.05, 'max_depth': 7, 'n_estimators': 300}"
      ]
     },
     "execution_count": 311,
     "metadata": {},
     "output_type": "execute_result"
    }
   ],
   "source": [
    "# The best params are\n",
    "tuned_model.best_params_"
   ]
  },
  {
   "cell_type": "markdown",
   "id": "b2ec082e",
   "metadata": {},
   "source": [
    "### <font color =\"red\">->> We can create our final model by using these best parameters</font>  "
   ]
  },
  {
   "cell_type": "code",
   "execution_count": 312,
   "id": "985c06b3",
   "metadata": {},
   "outputs": [
    {
     "name": "stdout",
     "output_type": "stream",
     "text": [
      "Spearman Correlation with Tuned Parameters:  0.7462864638015105\n"
     ]
    }
   ],
   "source": [
    "final_model = XGBRegressor(n_estimators=300,learning_rate=0.05,max_depth=7).fit(X_train,y_train)\n",
    "final_prediction = final_model.predict(X_test)\n",
    "corr, p = spearmanr(y_test,final_prediction)\n",
    "print(\"Spearman Correlation with Tuned Parameters: \",corr)\n",
    "# as we can see, after tuning process we got 0.02 difference "
   ]
  },
  {
   "cell_type": "markdown",
   "id": "574d1e88",
   "metadata": {},
   "source": [
    "### <font color =\"red\">->> We can graph the feature importances</font>\n",
    "->> As we can see below, almost half of aminoacids have high importance rather than others."
   ]
  },
  {
   "cell_type": "code",
   "execution_count": 313,
   "id": "9906311c",
   "metadata": {
    "scrolled": true
   },
   "outputs": [
    {
     "data": {
      "image/png": "[encoded data removed]",
      "text/plain": [
       "<Figure size 432x288 with 1 Axes>"
      ]
     },
     "metadata": {
      "needs_background": "light"
     },
     "output_type": "display_data"
    }
   ],
   "source": [
    "importance = pd.DataFrame({\"Importance\":final_model.feature_importances_},index=X_train.columns)\n",
    "df = importance.sort_values(by=\"Importance\",ascending=False)\n",
    "sns.barplot(x=\"Importance\",y=df.index,data=df)\n",
    "plt.ylabel(\"Variables\")\n",
    "plt.xlabel(\"Importance Scores\")\n",
    "plt.show();"
   ]
  }
 ],
 "metadata": {
  "kernelspec": {
   "display_name": "Python 3 (ipykernel)",
   "language": "python",
   "name": "python3"
  },
  "language_info": {
   "codemirror_mode": {
    "name": "ipython",
    "version": 3
   },
   "file_extension": ".py",
   "mimetype": "text/x-python",
   "name": "python",
   "nbconvert_exporter": "python",
   "pygments_lexer": "ipython3",
   "version": "3.9.12"
  }
 },
 "nbformat": 4,
 "nbformat_minor": 5
}
